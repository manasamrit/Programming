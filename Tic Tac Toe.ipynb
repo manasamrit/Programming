{
 "cells": [
  {
   "cell_type": "markdown",
   "id": "d51017f8",
   "metadata": {},
   "source": [
    "# Tic Tac Toe"
   ]
  },
  {
   "cell_type": "markdown",
   "id": "a5264c1c",
   "metadata": {},
   "source": [
    "This is my first (non-analytics) programming project in python. The goal was to create a basic Tic Tac Toe game as part of the online Udemy course \"Complete Python Bootcamp\".\n",
    "\n",
    "\n",
    "\n",
    "I realize I have a long way to go as far as my programming skills go, but I hope that, by continuing to practice these skills, I will gain an intuition and flexibility of what could be possible when seeking to apply analytics and machine learning models to problems."
   ]
  },
  {
   "cell_type": "markdown",
   "execution_count": null,
   "id": "c7d72ccf",
   "metadata": {},
   "outputs": [],
   "source": [
    "As I learn about object oriented programming, I hope to come back and apply OOP to this project in the future."
   ]
  },
  {
   "cell_type": "markdown",
   "id": "f8e78074",
   "metadata": {},
   "source": [
    "Note that many features are missing: \n",
    "- the closing feature doesn't respond well with jupyter notebook. At least, it's not as cleanly exited as I would like.\n",
    "- Jupyter notebook probably isn't the best place for this - a GUI like tkinter would be better\n",
    "- Documentation-wise, I'd like to add doc strings to the functions and learn how to apply PIP standards for documentation\n",
    "- There remains some redundancy, especially in the input of answers. \n",
    "- The final execution portion of the code could be looped for better readability.\n",
    "\n",
    "I hope to fill out these features in the future as well (mostly for practice).\n",
    "\n",
    "If there are any suggestions you have for me, I would love to hear them."
   ]
  },
  {
   "cell_type": "markdown",
   "id": "6df45862",
   "metadata": {},
   "source": [
    "The requirements for this project were given as follows:\n",
    "- 2 players should be able to play the game (both sitting at the same computer)\n",
    "- The board should be printed out every time a player makes a move\n",
    "- You should be able to accept input of the player position (on the numpad) and then place a symbol on the board"
   ]
  },
  {
   "cell_type": "code",
   "execution_count": null,
   "id": "6ad7a3b5",
   "metadata": {},
   "outputs": [],
   "source": [
    "\n",
    "# Tic Tac Toe\n",
    "\n",
    "# Create the board\n",
    "board = [' ' for _ in range(9)]\n",
    "\n",
    "# Function to print the board\n",
    "def print_board():\n",
    "    print('-------------')\n",
    "    for i in range(3):\n",
    "        print('|', board[i*3], '|', board[i*3 + 1], '|', board[i*3 + 2], '|')\n",
    "        print('-------------')\n",
    "\n",
    "# Function to check if a player has won\n",
    "def check_win(player):\n",
    "    # Check rows\n",
    "    for i in range(0, 9, 3):\n",
    "        if board[i] == board[i+1] == board[i+2] == player:\n",
    "            return True\n",
    "    # Check columns\n",
    "    for i in range(3):\n",
    "        if board[i] == board[i+3] == board[i+6] == player:\n",
    "            return True\n",
    "    # Check diagonals\n",
    "    if board[0] == board[4] == board[8] == player:\n",
    "        return True\n",
    "    if board[2] == board[4] == board[6] == player:\n",
    "        return True\n",
    "    return False\n",
    "\n",
    "# Function to play the game\n",
    "def play_game():\n",
    "    current_player = 'X'\n",
    "    while True:\n",
    "        print_board()\n",
    "        position = int(input(\"Enter a position (1-9): \")) - 1\n",
    "        if board[position] == ' ':\n",
    "            board[position] = current_player\n",
    "            if check_win(current_player):\n",
    "                print_board()\n",
    "                print(current_player, \"wins!\")\n",
    "                break\n",
    "            elif ' ' not in board:\n",
    "                print_board()\n",
    "                print(\"It's a tie!\")\n",
    "                break\n",
    "            current_player = 'O' if current_player == 'X' else 'X'\n",
    "        else:\n",
    "            print(\"That position is already filled. Try again.\")\n",
    "\n",
    "# Start the game\n",
    "play_game()"
   ]
  }
 ],
 "metadata": {
  "kernelspec": {
   "display_name": "Python 3 (ipykernel)",
   "language": "python",
   "name": "python3"
  },
  "language_info": {
   "codemirror_mode": {
    "name": "ipython",
    "version": 3
   },
   "file_extension": ".py",
   "mimetype": "text/x-python",
   "name": "python",
   "nbconvert_exporter": "python",
   "pygments_lexer": "ipython3",
   "version": "3.10.9"
  }
 },
 "nbformat": 4,
 "nbformat_minor": 5
}
